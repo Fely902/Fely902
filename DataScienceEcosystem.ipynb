{
  "cells": [
    {
      "cell_type": "markdown",
      "metadata": {
        "id": "view-in-github",
        "colab_type": "text"
      },
      "source": [
        "<a href=\"https://colab.research.google.com/github/Fely902/Fely902/blob/main/DataScienceEcosystem.ipynb\" target=\"_parent\"><img src=\"https://colab.research.google.com/assets/colab-badge.svg\" alt=\"Open In Colab\"/></a>"
      ]
    },
    {
      "cell_type": "markdown",
      "source": [
        "# Data Science Tools and Ecosystem"
      ],
      "metadata": {
        "id": "rVVK6vu3nP-v"
      }
    },
    {
      "cell_type": "markdown",
      "source": [
        "In this notebook, Data Science Tools and Ecosystem are summarized."
      ],
      "metadata": {
        "id": "xt70wEEHrQO7"
      }
    },
    {
      "cell_type": "markdown",
      "source": [
        "Objectives\n",
        "\n",
        "\n",
        "*   Perform arithmetic functions\n",
        "\n",
        "*   List some data science tools\n",
        "\n",
        "\n",
        "\n",
        "* List some data science languages\n",
        "\n",
        "\n",
        "\n"
      ],
      "metadata": {
        "id": "FF1mT9EdSNuO"
      }
    },
    {
      "cell_type": "markdown",
      "source": [
        "Some of the popular languages that Data Scientists use are:\n",
        "1. R\n",
        "2. Python\n",
        "3. HTML\n",
        "4. Java\n"
      ],
      "metadata": {
        "id": "9O2SNyhusAmx"
      }
    },
    {
      "cell_type": "markdown",
      "source": [
        "Some of the commonly used libraries used by Data Scientists include:\n",
        "1. R Stud\n",
        "2. JupyterLite\n",
        "3. Plotly\n",
        "4. ggplot2\n"
      ],
      "metadata": {
        "id": "YcShP2DXtNay"
      }
    },
    {
      "cell_type": "markdown",
      "source": [
        "|Data Science Tools|\n",
        "|------------------|\n",
        "|R Studio.         |\n",
        "|JupyterLite.      |\n",
        "|GitHub.           |\n"
      ],
      "metadata": {
        "id": "RqLLatVrMoN_"
      }
    },
    {
      "cell_type": "markdown",
      "source": [
        "Below are a few examples of evaluating arithmetic expressions in python"
      ],
      "metadata": {
        "id": "w3nabMFUNw4_"
      }
    },
    {
      "cell_type": "code",
      "source": [
        "#This is a simple arithmetic expression to multiply then add integers\n",
        "(3*4)+5"
      ],
      "metadata": {
        "id": "og9GX3P9O6-f",
        "colab": {
          "base_uri": "https://localhost:8080/"
        },
        "outputId": "a54d3bdf-3a13-496b-c115-9cd0653b9a0f"
      },
      "execution_count": null,
      "outputs": [
        {
          "output_type": "execute_result",
          "data": {
            "text/plain": [
              "17"
            ]
          },
          "metadata": {},
          "execution_count": 1
        }
      ]
    },
    {
      "cell_type": "code",
      "source": [
        "#This will convert 200 minutes to hours\n",
        "minutes=int(input(200))\n",
        "hours=minutes//60\n"
      ],
      "metadata": {
        "id": "cht8Sn8QIqGM"
      },
      "execution_count": null,
      "outputs": []
    },
    {
      "cell_type": "markdown",
      "source": [
        "Author\n",
        "-------\n",
        "Felicia Ojochenemi Yakubu"
      ],
      "metadata": {
        "id": "pp6X0F_yUZCA"
      }
    }
  ],
  "metadata": {
    "kernelspec": {
      "display_name": "Python",
      "language": "python",
      "name": "conda-env-python-py"
    },
    "language_info": {
      "name": ""
    },
    "colab": {
      "provenance": [],
      "include_colab_link": true
    }
  },
  "nbformat": 4,
  "nbformat_minor": 0
}